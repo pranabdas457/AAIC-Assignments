{
 "cells": [
  {
   "cell_type": "code",
   "execution_count": 0,
   "metadata": {
    "colab": {},
    "colab_type": "code",
    "id": "577-fHpT_7BA"
   },
   "outputs": [],
   "source": [
    "# Importing Required Libraries\n",
    "\n",
    "import numpy as np\n",
    "import tensorflow as tf\n",
    "import matplotlib.pyplot as plt\n",
    "import math\n",
    "%matplotlib inline"
   ]
  },
  {
   "cell_type": "code",
   "execution_count": 2,
   "metadata": {
    "colab": {
     "base_uri": "https://localhost:8080/",
     "height": 411
    },
    "colab_type": "code",
    "id": "TyE4ckOrBEB4",
    "outputId": "5606706a-4c4c-4a89-e6c0-4e50de57c189"
   },
   "outputs": [
    {
     "name": "stdout",
     "output_type": "stream",
     "text": [
      "WARNING:tensorflow:From <ipython-input-2-2bad89c735c8>:3: read_data_sets (from tensorflow.contrib.learn.python.learn.datasets.mnist) is deprecated and will be removed in a future version.\n",
      "Instructions for updating:\n",
      "Please use alternatives such as official/mnist/dataset.py from tensorflow/models.\n",
      "WARNING:tensorflow:From /usr/local/lib/python3.6/dist-packages/tensorflow/contrib/learn/python/learn/datasets/mnist.py:260: maybe_download (from tensorflow.contrib.learn.python.learn.datasets.base) is deprecated and will be removed in a future version.\n",
      "Instructions for updating:\n",
      "Please write your own downloading logic.\n",
      "WARNING:tensorflow:From /usr/local/lib/python3.6/dist-packages/tensorflow/contrib/learn/python/learn/datasets/mnist.py:262: extract_images (from tensorflow.contrib.learn.python.learn.datasets.mnist) is deprecated and will be removed in a future version.\n",
      "Instructions for updating:\n",
      "Please use tf.data to implement this functionality.\n",
      "Extracting MNIST_data/train-images-idx3-ubyte.gz\n",
      "WARNING:tensorflow:From /usr/local/lib/python3.6/dist-packages/tensorflow/contrib/learn/python/learn/datasets/mnist.py:267: extract_labels (from tensorflow.contrib.learn.python.learn.datasets.mnist) is deprecated and will be removed in a future version.\n",
      "Instructions for updating:\n",
      "Please use tf.data to implement this functionality.\n",
      "Extracting MNIST_data/train-labels-idx1-ubyte.gz\n",
      "WARNING:tensorflow:From /usr/local/lib/python3.6/dist-packages/tensorflow/contrib/learn/python/learn/datasets/mnist.py:110: dense_to_one_hot (from tensorflow.contrib.learn.python.learn.datasets.mnist) is deprecated and will be removed in a future version.\n",
      "Instructions for updating:\n",
      "Please use tf.one_hot on tensors.\n",
      "Extracting MNIST_data/t10k-images-idx3-ubyte.gz\n",
      "Extracting MNIST_data/t10k-labels-idx1-ubyte.gz\n",
      "WARNING:tensorflow:From /usr/local/lib/python3.6/dist-packages/tensorflow/contrib/learn/python/learn/datasets/mnist.py:290: DataSet.__init__ (from tensorflow.contrib.learn.python.learn.datasets.mnist) is deprecated and will be removed in a future version.\n",
      "Instructions for updating:\n",
      "Please use alternatives such as official/mnist/dataset.py from tensorflow/models.\n"
     ]
    }
   ],
   "source": [
    "# Loading Dataset\n",
    "\n",
    "from tensorflow.examples.tutorials.mnist import input_data\n",
    "mnist = input_data.read_data_sets(\"MNIST_data/\", one_hot=True)"
   ]
  },
  {
   "cell_type": "code",
   "execution_count": 0,
   "metadata": {
    "colab": {},
    "colab_type": "code",
    "id": "mXkGWdXqBQVk"
   },
   "outputs": [],
   "source": [
    "# Define a dynamic plot function\n",
    "\n",
    "def dynamic_plot(x,y,y_1,ax,ticks,title,colors=[\"b\"]):\n",
    "  ax.plot(x,y,\"b\",label=\"Train Loss\")\n",
    "  ax.plot(x,y_1,\"r\",label=\"Test Loss\")\n",
    "  if len(x) == 1:\n",
    "    plt.legend()\n",
    "    plt.title(title)\n",
    "  plt.yticks(ticks)\n",
    "  fig.canvas.draw()"
   ]
  },
  {
   "cell_type": "markdown",
   "metadata": {
    "colab_type": "text",
    "id": "rTsUthU8Cu0D"
   },
   "source": [
    "# Model 1: Architecture 2 Hidden Layes without Dropout and Batch Normalization"
   ]
  },
  {
   "cell_type": "code",
   "execution_count": 0,
   "metadata": {
    "colab": {},
    "colab_type": "code",
    "id": "wuCCM1FsC87k"
   },
   "outputs": [],
   "source": [
    "n_x = 784 # number of input features\n",
    "n_1 = 224 # number of hidden units in Layer 1\n",
    "n_2 = 128 # number of hidden units in Layer 2\n",
    "n_y = 10 # number of hidden units in Output Layer as we have 10 class labels to predict"
   ]
  },
  {
   "cell_type": "code",
   "execution_count": 0,
   "metadata": {
    "colab": {},
    "colab_type": "code",
    "id": "bTCK9o6DDd9m"
   },
   "outputs": [],
   "source": [
    "# Create Placeholder for both x and y\n",
    "\n",
    "x = tf.placeholder(tf.float32,[None,784],name=\"x\")\n",
    "y = tf.placeholder(tf.float32,[None,10],name=\"y\")"
   ]
  },
  {
   "cell_type": "code",
   "execution_count": 0,
   "metadata": {
    "colab": {},
    "colab_type": "code",
    "id": "E05_CqLYDyXg"
   },
   "outputs": [],
   "source": [
    "# Parameters Initialization\n",
    "# Create dictionary for convinience\n",
    "\n",
    "# We are using Relu activation for our hidden layers and in the output layer use sigmoid activation function\n",
    "\n",
    "weights = {\n",
    "    \"h1\":tf.Variable(tf.random_normal([n_x,n_1],stddev=0.0504, mean=0)),\n",
    "    \"h2\":tf.Variable(tf.random_normal([n_1,n_2],stddev=0.0942, mean=0)),\n",
    "    \"o\":tf.Variable(tf.random_normal([n_2,n_y],stddev=0.124, mean=0))\n",
    "}\n",
    "\n",
    "biases = {\n",
    "    \"b1\":tf.Variable(tf.random_normal([n_1])),\n",
    "    \"b2\":tf.Variable(tf.random_normal([n_2])),\n",
    "    \"o\":tf.Variable(tf.random_normal([n_y]))\n",
    "}"
   ]
  },
  {
   "cell_type": "code",
   "execution_count": 0,
   "metadata": {
    "colab": {},
    "colab_type": "code",
    "id": "Kns5FH9LGooi"
   },
   "outputs": [],
   "source": [
    "# Forward Propagation Step\n",
    "\n",
    "def forward_pass(x,weights,biases):\n",
    "  \n",
    "  layer_1 = tf.add(tf.matmul(x,weights[\"h1\"]),biases[\"b1\"])\n",
    "  layer_1 = tf.nn.relu(layer_1)\n",
    "  \n",
    "  layer_2 = tf.add(tf.matmul(layer_1,weights[\"h2\"]),biases[\"b2\"])\n",
    "  layer_2 = tf.nn.relu(layer_2)\n",
    "  \n",
    "  output_layer = tf.add(tf.matmul(layer_2,weights[\"o\"]),biases[\"o\"])\n",
    "  output_layer = tf.nn.sigmoid(output_layer)\n",
    "  \n",
    "  return output_layer"
   ]
  },
  {
   "cell_type": "code",
   "execution_count": 8,
   "metadata": {
    "colab": {
     "base_uri": "https://localhost:8080/",
     "height": 637
    },
    "colab_type": "code",
    "id": "zkzawzXBHqS7",
    "outputId": "cca7ec0d-ed5e-411e-852e-9b97e93c2dff"
   },
   "outputs": [
    {
     "name": "stdout",
     "output_type": "stream",
     "text": [
      "WARNING:tensorflow:From <ipython-input-8-1cdaaa513311>:9: softmax_cross_entropy_with_logits (from tensorflow.python.ops.nn_ops) is deprecated and will be removed in a future version.\n",
      "Instructions for updating:\n",
      "\n",
      "Future major versions of TensorFlow will allow gradients to flow\n",
      "into the labels input on backprop by default.\n",
      "\n",
      "See `tf.nn.softmax_cross_entropy_with_logits_v2`.\n",
      "\n",
      "Epoch: 0001 train cost=1.584607731 test cost=1.578509159\n",
      "Epoch: 0002 train cost=1.509029021 test cost=1.508369493\n",
      "Epoch: 0003 train cost=1.495777911 test cost=1.496758994\n",
      "Epoch: 0004 train cost=1.488526941 test cost=1.491468804\n",
      "Epoch: 0005 train cost=1.483416099 test cost=1.488111329\n",
      "Epoch: 0006 train cost=1.479839036 test cost=1.486208113\n",
      "Epoch: 0007 train cost=1.477015649 test cost=1.484140646\n",
      "Epoch: 0008 train cost=1.474854422 test cost=1.483235443\n",
      "Epoch: 0009 train cost=1.473096743 test cost=1.482519221\n",
      "Epoch: 0010 train cost=1.471627671 test cost=1.481869944\n",
      "Accuracy: 0.9775\n"
     ]
    },
    {
     "data": {
      "image/png": "[encoded data removed]",
      "text/plain": [
       "<Figure size 432x288 with 1 Axes>"
      ]
     },
     "metadata": {
      "tags": []
     },
     "output_type": "display_data"
    }
   ],
   "source": [
    "# Building Our Model\n",
    "\n",
    "training_epochs = 10\n",
    "learning_rate = 0.001\n",
    "batch_size = 100\n",
    "display_step = 1\n",
    "\n",
    "y_hat = forward_pass(x,weights,biases)\n",
    "\n",
    "cost = tf.reduce_mean(tf.nn.softmax_cross_entropy_with_logits(logits = y_hat, labels = y)) # Cost function defined as this is a multiclass problem\n",
    "\n",
    "optimizer = tf.train.AdamOptimizer(learning_rate=learning_rate).minimize(cost) # Using Adam Optimizer for better result\n",
    "\n",
    "with tf.Session() as sess: # Create a tensorflow session\n",
    "  tf.global_variables_initializer().run()\n",
    "  \n",
    "  fig,ax = plt.subplots(1,1)\n",
    "  ax.set_xlabel(\"epoch\")\n",
    "  ax.set_ylabel(\"softmax cross entropy loss\")\n",
    "  \n",
    "  xs_1,ytrs_1,ytes_1 = [],[],[]\n",
    "  \n",
    "  for epoch in range(training_epochs):\n",
    "    \n",
    "    train_avg_cost = 0\n",
    "    test_avg_cost = 0\n",
    "    \n",
    "    total_num_batches = int(math.floor(mnist.train.num_examples/batch_size))\n",
    "    \n",
    "    for i in range(total_num_batches):\n",
    "      \n",
    "      batch_X,batch_Y = mnist.train.next_batch(batch_size)\n",
    "      \n",
    "      _,c,w = sess.run([optimizer,cost,weights],feed_dict={x:batch_X,y:batch_Y})\n",
    "      train_avg_cost += c / total_num_batches\n",
    "      \n",
    "      c = sess.run(cost,feed_dict={x:mnist.test.images,y:mnist.test.labels})\n",
    "      test_avg_cost += c / total_num_batches\n",
    "      \n",
    "    xs_1.append(epoch)\n",
    "    ytrs_1.append(train_avg_cost)\n",
    "    ytes_1.append(test_avg_cost)\n",
    "    \n",
    "    dynamic_plot(xs_1,ytrs_1,ytes_1,ax,np.arange(1.3,1.8,step=0.04),\"input-ReLu(224)-ReLu(128)-sigmoid(output)-AdamOptimizer\")\n",
    "    \n",
    "    if epoch%display_step == 0:\n",
    "      print(\"Epoch:\", '%04d' % (epoch+1), \"train cost={:.9f}\".format(train_avg_cost), \"test cost={:.9f}\".format(test_avg_cost))\n",
    "      \n",
    "  \n",
    "  dynamic_plot(xs_1,ytrs_1,ytes_1,ax,np.arange(1.3,1.8,step=0.04),\"input-ReLu(224)-ReLu(128)-sigmoid(output)-AdamOptimizer\")\n",
    "  correct_prediction = tf.equal(tf.argmax(y_hat,1), tf.argmax(y,1))\n",
    "  accuracy_1 = tf.reduce_mean(tf.cast(correct_prediction, tf.float32))\n",
    "  model_1_accuracy = accuracy_1.eval({x: mnist.test.images, y: mnist.test.labels})\n",
    "  print(\"Accuracy:\", model_1_accuracy)"
   ]
  },
  {
   "cell_type": "markdown",
   "metadata": {
    "colab_type": "text",
    "id": "YtCJCeRcPSKH"
   },
   "source": [
    "# Model 2: Architecture 3 Hidden Layes with  Dropout"
   ]
  },
  {
   "cell_type": "code",
   "execution_count": 0,
   "metadata": {
    "colab": {},
    "colab_type": "code",
    "id": "K_owl_80PRHm"
   },
   "outputs": [],
   "source": [
    "n_x = 784 # number of input features\n",
    "n_1 = 512 # number of hidden units in Layer 1\n",
    "n_2 = 224 # number of hidden units in Layer 2\n",
    "n_3 = 128 # number of hidden units in Layer 3\n",
    "n_y = 10 # number of hidden units in Output Layer as we have 10 class labels to predict"
   ]
  },
  {
   "cell_type": "code",
   "execution_count": 0,
   "metadata": {
    "colab": {},
    "colab_type": "code",
    "id": "UYUdh54mPxLB"
   },
   "outputs": [],
   "source": [
    "# Create Placeholder for both x and y and dropout layer\n",
    "\n",
    "x = tf.placeholder(tf.float32,[None,784],name=\"x\")\n",
    "y = tf.placeholder(tf.float32,[None,10],name=\"y\")\n",
    "\n",
    "# keep_prob: we will be using these placeholders when we use dropouts, while testing model\n",
    "keep_prob = tf.placeholder(tf.float32)\n",
    "# keep_prob_input: we will be using these placeholders when we use dropouts, while training model\n",
    "keep_prob_input = tf.placeholder(tf.float32)"
   ]
  },
  {
   "cell_type": "code",
   "execution_count": 0,
   "metadata": {
    "colab": {},
    "colab_type": "code",
    "id": "M_582xMkQCcB"
   },
   "outputs": [],
   "source": [
    "# Parameters Initialization\n",
    "# Create dictionary for convinience\n",
    "\n",
    "# We are using Relu activation for our hidden layers and in the output layer use sigmoid activation function\n",
    "\n",
    "weights = {\n",
    "    \"h1\":tf.Variable(tf.random_normal([n_x,n_1],stddev=0.0504, mean=0)),\n",
    "    \"h2\":tf.Variable(tf.random_normal([n_1,n_2],stddev=0.0624, mean=0)),\n",
    "    \"h3\":tf.Variable(tf.random_normal([n_2,n_3],stddev=0.0942, mean=0)),\n",
    "    \"o\":tf.Variable(tf.random_normal([n_3,n_y],stddev=0.1245, mean=0))\n",
    "}\n",
    "\n",
    "biases = {\n",
    "    \"b1\":tf.Variable(tf.random_normal([n_1])),\n",
    "    \"b2\":tf.Variable(tf.random_normal([n_2])),\n",
    "    \"b3\":tf.Variable(tf.random_normal([n_3])),\n",
    "    \"o\":tf.Variable(tf.random_normal([n_y]))\n",
    "}"
   ]
  },
  {
   "cell_type": "code",
   "execution_count": 0,
   "metadata": {
    "colab": {},
    "colab_type": "code",
    "id": "V5ITMYyPQ9Iy"
   },
   "outputs": [],
   "source": [
    "def forward_pass(x,weights,biases):\n",
    "  \n",
    "  layer_1 = tf.add(tf.matmul(x,weights[\"h1\"]),biases[\"b1\"])\n",
    "  layer_1 = tf.nn.relu(layer_1)\n",
    "  layer_1_drop = tf.nn.dropout(layer_1, keep_prob)\n",
    "  \n",
    "  layer_2 = tf.add(tf.matmul(layer_1_drop,weights[\"h2\"]),biases[\"b2\"])\n",
    "  layer_2 = tf.nn.relu(layer_2)\n",
    "  layer_2_drop = tf.nn.dropout(layer_2, keep_prob)\n",
    "  \n",
    "  layer_3 = tf.add(tf.matmul(layer_2_drop,weights[\"h3\"]),biases[\"b3\"])\n",
    "  layer_3 = tf.nn.relu(layer_3)\n",
    "  layer_3_drop = tf.nn.dropout(layer_3,keep_prob)\n",
    "                   \n",
    "  \n",
    "  output_layer = tf.add(tf.matmul(layer_3_drop,weights[\"o\"]),biases[\"o\"])\n",
    "  output_layer = tf.nn.sigmoid(output_layer)\n",
    "  \n",
    "  return output_layer"
   ]
  },
  {
   "cell_type": "code",
   "execution_count": 13,
   "metadata": {
    "colab": {
     "base_uri": "https://localhost:8080/",
     "height": 821
    },
    "colab_type": "code",
    "id": "r1s4lb69R3_r",
    "outputId": "7f062b4d-13ab-4946-bf6a-13a85b71f186"
   },
   "outputs": [
    {
     "name": "stdout",
     "output_type": "stream",
     "text": [
      "Epoch: 0001 train cost=1.720446952 test cost=1.636567783\n",
      "Epoch: 0002 train cost=1.548572361 test cost=1.513284514\n",
      "Epoch: 0003 train cost=1.524724076 test cost=1.501134189\n",
      "Epoch: 0004 train cost=1.514463137 test cost=1.495467926\n",
      "Epoch: 0005 train cost=1.507261108 test cost=1.491729570\n",
      "Epoch: 0006 train cost=1.504479019 test cost=1.488810191\n",
      "Epoch: 0007 train cost=1.499522988 test cost=1.487939300\n",
      "Epoch: 0008 train cost=1.498145452 test cost=1.486122856\n",
      "Epoch: 0009 train cost=1.496360829 test cost=1.485160105\n",
      "Epoch: 0010 train cost=1.494232345 test cost=1.484335127\n",
      "Epoch: 0011 train cost=1.493834252 test cost=1.484186427\n",
      "Epoch: 0012 train cost=1.492564433 test cost=1.483064081\n",
      "Epoch: 0013 train cost=1.492103255 test cost=1.482176815\n",
      "Epoch: 0014 train cost=1.490622797 test cost=1.481583661\n",
      "Epoch: 0015 train cost=1.489701303 test cost=1.481669134\n",
      "Epoch: 0016 train cost=1.488620507 test cost=1.481392655\n",
      "Epoch: 0017 train cost=1.489477020 test cost=1.481915971\n",
      "Epoch: 0018 train cost=1.488061844 test cost=1.481382308\n",
      "Epoch: 0019 train cost=1.489897386 test cost=1.481905497\n",
      "Epoch: 0020 train cost=1.488457049 test cost=1.481210448\n",
      "Epoch: 0021 train cost=1.488336284 test cost=1.481571696\n",
      "Epoch: 0022 train cost=1.488249468 test cost=1.481555578\n",
      "Epoch: 0023 train cost=1.488640501 test cost=1.481544617\n",
      "Epoch: 0024 train cost=1.488538720 test cost=1.481540024\n",
      "Epoch: 0025 train cost=1.487292510 test cost=1.481010081\n",
      "Epoch: 0026 train cost=1.486327521 test cost=1.480286441\n",
      "Epoch: 0027 train cost=1.487060795 test cost=1.480741974\n",
      "Epoch: 0028 train cost=1.485998849 test cost=1.481345768\n",
      "Epoch: 0029 train cost=1.487278597 test cost=1.481768020\n",
      "Epoch: 0030 train cost=1.487965236 test cost=1.481422495\n",
      "Accuracy: 0.9753\n"
     ]
    },
    {
     "data": {
      "image/png": "[encoded data removed]",
      "text/plain": [
       "<Figure size 432x288 with 1 Axes>"
      ]
     },
     "metadata": {
      "tags": []
     },
     "output_type": "display_data"
    }
   ],
   "source": [
    "# Building Our Model\n",
    "\n",
    "training_epochs = 30\n",
    "learning_rate = 0.001\n",
    "batch_size = 100\n",
    "display_step = 1\n",
    "\n",
    "y_hat = forward_pass(x,weights,biases)\n",
    "\n",
    "cost = tf.reduce_mean(tf.nn.softmax_cross_entropy_with_logits(logits = y_hat, labels = y)) # Cost function defined as this is a multiclass problem\n",
    "\n",
    "optimizer = tf.train.AdamOptimizer(learning_rate=learning_rate).minimize(cost) # Using Adam Optimizer for better result\n",
    "\n",
    "with tf.Session() as sess: # Create a tensorflow session\n",
    "  tf.global_variables_initializer().run()\n",
    "  \n",
    "  fig,ax = plt.subplots(1,1)\n",
    "  ax.set_xlabel(\"epoch\")\n",
    "  ax.set_ylabel(\"softmax cross entropy loss\")\n",
    "  \n",
    "  xs_2,ytrs_2,ytes_2 = [],[],[]\n",
    "  \n",
    "  for epoch in range(training_epochs):\n",
    "    \n",
    "    train_avg_cost = 0\n",
    "    test_avg_cost = 0\n",
    "    \n",
    "    total_num_batches = int(math.floor(mnist.train.num_examples/batch_size))\n",
    "    \n",
    "    for i in range(total_num_batches):\n",
    "      \n",
    "      batch_X,batch_Y = mnist.train.next_batch(batch_size)\n",
    "      \n",
    "      _,c,w = sess.run([optimizer,cost,weights],feed_dict={x:batch_X,y:batch_Y,keep_prob: 0.5})\n",
    "      train_avg_cost += c / total_num_batches\n",
    "      \n",
    "      c = sess.run(cost,feed_dict={x:mnist.test.images,y:mnist.test.labels,keep_prob: 1.0})\n",
    "      test_avg_cost += c / total_num_batches\n",
    "      \n",
    "    xs_2.append(epoch)\n",
    "    ytrs_2.append(train_avg_cost)\n",
    "    ytes_2.append(test_avg_cost)\n",
    "    \n",
    "    dynamic_plot(xs_2,ytrs_2,ytes_2,ax,np.arange(1.3,1.8,step=0.04),\"input-ReLu(512)-Dropout-ReLu(224)-Dropout-Relu(128)-Sigmoid(ouput)-AdamOptimizer\")\n",
    "    \n",
    "    if epoch%display_step == 0:\n",
    "      print(\"Epoch:\", '%04d' % (epoch+1), \"train cost={:.9f}\".format(train_avg_cost), \"test cost={:.9f}\".format(test_avg_cost))\n",
    "      \n",
    "  \n",
    "  dynamic_plot(xs_2,ytrs_2,ytes_2,ax,np.arange(1.3,1.8,step=0.04),\"input-ReLu(512)-Dropout-ReLu(224)-Dropout-Relu(128)-Sigmoid(ouput)-AdamOptimizer\")\n",
    "  correct_prediction = tf.equal(tf.argmax(y_hat,1), tf.argmax(y,1))\n",
    "  accuracy_2 = tf.reduce_mean(tf.cast(correct_prediction, tf.float32))\n",
    "  model_2_accuracy = accuracy_2.eval({x: mnist.test.images, y: mnist.test.labels,keep_prob: 1.0})\n",
    "  print(\"Accuracy:\", model_2_accuracy)"
   ]
  },
  {
   "cell_type": "markdown",
   "metadata": {
    "colab_type": "text",
    "id": "QzHIJOcoUMRS"
   },
   "source": [
    "# Model 3: Architecture 5 Hidden Layes with  Batch Normalization"
   ]
  },
  {
   "cell_type": "code",
   "execution_count": 0,
   "metadata": {
    "colab": {},
    "colab_type": "code",
    "id": "vCtEMUFHUQ7C"
   },
   "outputs": [],
   "source": [
    "n_x = 784 # number of input features\n",
    "n_1 = 1024 # number of hidden units in Layer 1\n",
    "n_2 = 512 # number of hidden units in Layer 2\n",
    "n_3 = 224 # number of hidden units in Layer 3\n",
    "n_4 = 128 # number of hidden units in Layer 4\n",
    "n_5 = 64 # number of hidden units in Layer 3\n",
    "n_y = 10 # number of hidden units in Output Layer as we have 10 class labels to predict"
   ]
  },
  {
   "cell_type": "code",
   "execution_count": 0,
   "metadata": {
    "colab": {},
    "colab_type": "code",
    "id": "8oqPcJ--W1t5"
   },
   "outputs": [],
   "source": [
    "# Create Placeholder for both x and y\n",
    "\n",
    "x = tf.placeholder(tf.float32,[None,784],name=\"x\")\n",
    "y = tf.placeholder(tf.float32,[None,10],name=\"y\")"
   ]
  },
  {
   "cell_type": "code",
   "execution_count": 0,
   "metadata": {
    "colab": {},
    "colab_type": "code",
    "id": "w0Y_E9inZMht"
   },
   "outputs": [],
   "source": [
    "# Parameters Initialization\n",
    "# Create dictionary for convinience\n",
    "\n",
    "# We are using Relu activation for our hidden layers and in the output layer use sigmoid activation function\n",
    "\n",
    "weights = {\n",
    "    \"h1\":tf.Variable(tf.random_normal([n_x,n_1],stddev=0.0504, mean=0)),\n",
    "    \"h2\":tf.Variable(tf.random_normal([n_1,n_2],stddev=0.0441, mean=0)),\n",
    "    \"h3\":tf.Variable(tf.random_normal([n_2,n_3],stddev=0.0624, mean=0)),\n",
    "    \"h4\":tf.Variable(tf.random_normal([n_3,n_4],stddev=0.0942,mean=0)),\n",
    "    \"h5\":tf.Variable(tf.random_normal([n_4,n_5],stddev=0.1234,mean=0)),\n",
    "    \"o\":tf.Variable(tf.random_normal([n_5,n_y],stddev=0.1754, mean=0))\n",
    "}\n",
    "\n",
    "biases = {\n",
    "    \"b1\":tf.Variable(tf.random_normal([n_1])),\n",
    "    \"b2\":tf.Variable(tf.random_normal([n_2])),\n",
    "    \"b3\":tf.Variable(tf.random_normal([n_3])),\n",
    "    \"b4\":tf.Variable(tf.random_normal([n_4])),\n",
    "    \"b5\":tf.Variable(tf.random_normal([n_5])),\n",
    "    \"o\":tf.Variable(tf.random_normal([n_y]))\n",
    "}"
   ]
  },
  {
   "cell_type": "code",
   "execution_count": 0,
   "metadata": {
    "colab": {},
    "colab_type": "code",
    "id": "fMenmfVGddFC"
   },
   "outputs": [],
   "source": [
    "epsilon = 1e-3\n",
    "def forward_pass(x,weights,biases):\n",
    "  \n",
    "  layer_1 = tf.add(tf.matmul(x,weights[\"h1\"]),biases[\"b1\"])\n",
    "  layer_1 = tf.nn.relu(layer_1)\n",
    "  \n",
    "  \n",
    "  layer_2 = tf.add(tf.matmul(layer_1,weights[\"h2\"]),biases[\"b2\"])\n",
    "  layer_2 = tf.nn.relu(layer_2) \n",
    "  \n",
    "  \n",
    "  \n",
    "  layer_3 = tf.add(tf.matmul(layer_2,weights[\"h3\"]),biases[\"b3\"])\n",
    "  batch_mean_3, batch_var_3 = tf.nn.moments(layer_3, [0])\n",
    "  scale_3 = tf.Variable(tf.ones([n_3]))\n",
    "  beta_3 = tf.Variable(tf.zeros([n_3]))\n",
    "  layer_3 = tf.nn.batch_normalization(layer_3, batch_mean_3, batch_var_3, beta_3, scale_3, epsilon)\n",
    "  layer_3 = tf.nn.relu(layer_3)\n",
    "  \n",
    "  layer_4 = tf.add(tf.matmul(layer_3,weights[\"h4\"]),biases[\"b4\"])\n",
    "  batch_mean_4, batch_var_4 = tf.nn.moments(layer_4, [0])\n",
    "  scale_4 = tf.Variable(tf.ones([n_4]))\n",
    "  beta_4 = tf.Variable(tf.zeros([n_4]))\n",
    "  layer_4 = tf.nn.batch_normalization(layer_4, batch_mean_4, batch_var_4, beta_4, scale_4, epsilon)\n",
    "  layer_4 = tf.nn.relu(layer_4)\n",
    "  \n",
    "  layer_5 = tf.add(tf.matmul(layer_4,weights[\"h5\"]),biases[\"b5\"])\n",
    "  batch_mean_5, batch_var_5 = tf.nn.moments(layer_5, [0])\n",
    "  scale_5 = tf.Variable(tf.ones([n_5]))\n",
    "  beta_5 = tf.Variable(tf.zeros([n_5]))\n",
    "  layer_5 = tf.nn.batch_normalization(layer_5, batch_mean_5, batch_var_5, beta_5, scale_5, epsilon)\n",
    "  layer_5 = tf.nn.relu(layer_5)\n",
    "  \n",
    "  \n",
    "  \n",
    "  \n",
    "                   \n",
    "  \n",
    "  output_layer = tf.add(tf.matmul(layer_5,weights[\"o\"]),biases[\"o\"])\n",
    "  output_layer = tf.nn.sigmoid(output_layer)\n",
    "  \n",
    "  return output_layer"
   ]
  },
  {
   "cell_type": "code",
   "execution_count": 18,
   "metadata": {
    "colab": {
     "base_uri": "https://localhost:8080/",
     "height": 736
    },
    "colab_type": "code",
    "id": "5jXuulx1fMqh",
    "outputId": "9233fb37-939e-47e1-a748-aa0be703634e"
   },
   "outputs": [
    {
     "name": "stdout",
     "output_type": "stream",
     "text": [
      "Epoch: 0001 train cost=1.573766130 test cost=1.565352927\n",
      "Epoch: 0002 train cost=1.490614174 test cost=1.489952984\n",
      "Epoch: 0003 train cost=1.480966786 test cost=1.483716641\n",
      "Epoch: 0004 train cost=1.476190389 test cost=1.480444247\n",
      "Epoch: 0005 train cost=1.473249882 test cost=1.478735987\n",
      "Epoch: 0006 train cost=1.471727725 test cost=1.478847177\n",
      "Epoch: 0007 train cost=1.470312473 test cost=1.477913625\n",
      "Epoch: 0008 train cost=1.469204075 test cost=1.476798229\n",
      "Epoch: 0009 train cost=1.467277300 test cost=1.475845903\n",
      "Epoch: 0010 train cost=1.467894512 test cost=1.476258943\n",
      "Epoch: 0011 train cost=1.467127519 test cost=1.476819377\n",
      "Epoch: 0012 train cost=1.467030718 test cost=1.477250366\n",
      "Epoch: 0013 train cost=1.466181863 test cost=1.476315040\n",
      "Epoch: 0014 train cost=1.466234212 test cost=1.475663151\n",
      "Epoch: 0015 train cost=1.465565470 test cost=1.475495653\n",
      "Epoch: 0016 train cost=1.465478073 test cost=1.475567076\n",
      "Epoch: 0017 train cost=1.465148783 test cost=1.476277859\n",
      "Epoch: 0018 train cost=1.465240111 test cost=1.476043457\n",
      "Epoch: 0019 train cost=1.465034224 test cost=1.475705244\n",
      "Epoch: 0020 train cost=1.465683358 test cost=1.476338125\n",
      "Epoch: 0021 train cost=1.463895900 test cost=1.474604522\n",
      "Epoch: 0022 train cost=1.463648017 test cost=1.474656490\n",
      "Epoch: 0023 train cost=1.463760290 test cost=1.475303215\n",
      "Epoch: 0024 train cost=1.464281718 test cost=1.475551575\n",
      "Epoch: 0025 train cost=1.464254682 test cost=1.475668920\n",
      "Accuracy: 0.9823\n"
     ]
    },
    {
     "data": {
      "image/png": "[encoded data removed]",
      "text/plain": [
       "<Figure size 432x288 with 1 Axes>"
      ]
     },
     "metadata": {
      "tags": []
     },
     "output_type": "display_data"
    }
   ],
   "source": [
    "# Building Our Model\n",
    "\n",
    "training_epochs = 25\n",
    "learning_rate = 0.001\n",
    "batch_size = 128\n",
    "display_step = 1\n",
    "\n",
    "y_hat = forward_pass(x,weights,biases)\n",
    "\n",
    "cost = tf.reduce_mean(tf.nn.softmax_cross_entropy_with_logits(logits = y_hat, labels = y)) # Cost function defined as this is a multiclass problem\n",
    "\n",
    "optimizer = tf.train.AdamOptimizer(learning_rate=learning_rate).minimize(cost) # Using Adam Optimizer for better result\n",
    "\n",
    "with tf.Session() as sess: # Create a tensorflow session\n",
    "  tf.global_variables_initializer().run()\n",
    "  \n",
    "  fig,ax = plt.subplots(1,1)\n",
    "  ax.set_xlabel(\"epoch\")\n",
    "  ax.set_ylabel(\"softmax cross entropy loss\")\n",
    "  \n",
    "  xs_3,ytrs_3,ytes_3 = [],[],[]\n",
    "  \n",
    "  for epoch in range(training_epochs):\n",
    "    \n",
    "    train_avg_cost = 0\n",
    "    test_avg_cost = 0\n",
    "    \n",
    "    total_num_batches = int(math.floor(mnist.train.num_examples/batch_size))\n",
    "    \n",
    "    for i in range(total_num_batches):\n",
    "      \n",
    "      batch_X,batch_Y = mnist.train.next_batch(batch_size)\n",
    "      \n",
    "      _,c,w = sess.run([optimizer,cost,weights],feed_dict={x:batch_X,y:batch_Y})\n",
    "      train_avg_cost += c / total_num_batches\n",
    "      \n",
    "      c = sess.run(cost,feed_dict={x:mnist.test.images,y:mnist.test.labels})\n",
    "      test_avg_cost += c / total_num_batches\n",
    "      \n",
    "    xs_3.append(epoch)\n",
    "    ytrs_3.append(train_avg_cost)\n",
    "    ytes_3.append(test_avg_cost)\n",
    "    \n",
    "    dynamic_plot(xs_3,ytrs_3,ytes_3,ax,np.arange(1.3,1.8,step=0.04),\"input-Relu(1024)-Relu(512)-Relu(BN(224))-Relu(BN(128))-Relu(BN(64))-Sigmoid(ouput)-AdamOptimizer\")\n",
    "    \n",
    "    if epoch%display_step == 0:\n",
    "      print(\"Epoch:\", '%04d' % (epoch+1), \"train cost={:.9f}\".format(train_avg_cost), \"test cost={:.9f}\".format(test_avg_cost))\n",
    "      \n",
    "  \n",
    "  dynamic_plot(xs_3,ytrs_3,ytes_3,ax,np.arange(1.3,1.8,step=0.04),\"input-Relu(1024)-Relu(512)-Relu(BN(224))-Relu(BN(128))-Relu(BN(64))-Sigmoid(ouput)-AdamOptimizer\")\n",
    "  correct_prediction = tf.equal(tf.argmax(y_hat,1), tf.argmax(y,1))\n",
    "  accuracy_3 = tf.reduce_mean(tf.cast(correct_prediction, tf.float32))\n",
    "  model_3_accuracy = accuracy_3.eval({x: mnist.test.images, y: mnist.test.labels})\n",
    "  print(\"Accuracy:\", model_3_accuracy)"
   ]
  },
  {
   "cell_type": "markdown",
   "metadata": {
    "colab_type": "text",
    "id": "RtiCoh_uk7j-"
   },
   "source": [
    "# Performance Comparison of Models Using Pretty Table"
   ]
  },
  {
   "cell_type": "code",
   "execution_count": 19,
   "metadata": {
    "colab": {
     "base_uri": "https://localhost:8080/",
     "height": 136
    },
    "colab_type": "code",
    "id": "_LTl-HcKlAyf",
    "outputId": "568359fe-da28-4da8-bc1a-be34ea8c0d2e"
   },
   "outputs": [
    {
     "name": "stdout",
     "output_type": "stream",
     "text": [
      "+-------+---------------------------------------------------------------------+----------------+\n",
      "| S.NO. |                                MODEL                                | Model Accuracy |\n",
      "+-------+---------------------------------------------------------------------+----------------+\n",
      "|   1   | Architecture 2 Hidden Layes without Dropout and Batch Normalization |     0.9775     |\n",
      "|   2   |              Architecture 3 Hidden Layes with  Dropout              |     0.9753     |\n",
      "|   3   |        Architecture 5 Hidden Layes with  Batch Normalization        |     0.9823     |\n",
      "+-------+---------------------------------------------------------------------+----------------+\n"
     ]
    }
   ],
   "source": [
    "# Creating table using PrettyTable library\n",
    "from prettytable import PrettyTable\n",
    "\n",
    "# Names of models\n",
    "names = ['Architecture 2 Hidden Layes without Dropout and Batch Normalization','Architecture 3 Hidden Layes with  Dropout',\"Architecture 5 Hidden Layes with  Batch Normalization\"]\n",
    "\n",
    "# Model Accuracy\n",
    "model_acc = [model_1_accuracy,model_2_accuracy,model_3_accuracy]\n",
    "\n",
    "\n",
    "numbering = [1,2,3]\n",
    "\n",
    "# Initializing prettytable\n",
    "ptable = PrettyTable()\n",
    "\n",
    "# Adding columns\n",
    "ptable.add_column(\"S.NO.\",numbering)\n",
    "ptable.add_column(\"MODEL\",names)\n",
    "ptable.add_column(\"Model Accuracy\",model_acc)\n",
    "\n",
    "# Printing the Table\n",
    "print(ptable)"
   ]
  },
  {
   "cell_type": "code",
   "execution_count": 0,
   "metadata": {
    "colab": {},
    "colab_type": "code",
    "id": "EQnh2JV3oCfu"
   },
   "outputs": [],
   "source": []
  }
 ],
 "metadata": {
  "accelerator": "GPU",
  "colab": {
   "collapsed_sections": [],
   "name": "Different_Architectures_Using_Tensorflow.ipynb",
   "provenance": [],
   "version": "0.3.2"
  },
  "kernelspec": {
   "display_name": "Python 3",
   "language": "python",
   "name": "python3"
  },
  "language_info": {
   "codemirror_mode": {
    "name": "ipython",
    "version": 3
   },
   "file_extension": ".py",
   "mimetype": "text/x-python",
   "name": "python",
   "nbconvert_exporter": "python",
   "pygments_lexer": "ipython3",
   "version": "3.6.7"
  }
 },
 "nbformat": 4,
 "nbformat_minor": 1
}
