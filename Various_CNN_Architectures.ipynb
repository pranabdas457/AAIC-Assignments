{
 "cells": [
  {
   "cell_type": "code",
   "execution_count": 1,
   "metadata": {
    "colab": {
     "base_uri": "https://localhost:8080/",
     "height": 34
    },
    "colab_type": "code",
    "id": "4AS5GyQLVzam",
    "outputId": "75c888fb-b90e-4870-9176-d3234e9faa4c"
   },
   "outputs": [
    {
     "name": "stderr",
     "output_type": "stream",
     "text": [
      "Using TensorFlow backend.\n"
     ]
    }
   ],
   "source": [
    "# Importing the Required Libraries\n",
    "\n",
    "import keras\n",
    "from keras.datasets import mnist\n",
    "from keras.models import Sequential\n",
    "from keras.layers import Dense, Dropout, Flatten\n",
    "from keras.layers import Conv2D, MaxPooling2D\n",
    "from keras import backend as K\n",
    "from keras.utils import to_categorical\n",
    "from keras.initializers import he_normal\n",
    "from keras.layers.normalization import BatchNormalization\n",
    "import numpy as np\n",
    "import matplotlib.pyplot as plt\n",
    "%matplotlib inline\n",
    "K.set_image_data_format('channels_last') # set the data format for our model"
   ]
  },
  {
   "cell_type": "code",
   "execution_count": 2,
   "metadata": {
    "colab": {
     "base_uri": "https://localhost:8080/",
     "height": 51
    },
    "colab_type": "code",
    "id": "VFMaDic7WlLS",
    "outputId": "38fe3853-97db-45cc-9a21-bcfaa2441574"
   },
   "outputs": [
    {
     "name": "stdout",
     "output_type": "stream",
     "text": [
      "Downloading data from https://s3.amazonaws.com/img-datasets/mnist.npz\n",
      "11493376/11490434 [==============================] - 4s 0us/step\n"
     ]
    }
   ],
   "source": [
    "# Loading MNIST Dataset\n",
    "\n",
    "(x_train, y_train), (x_test, y_test) = mnist.load_data()"
   ]
  },
  {
   "cell_type": "code",
   "execution_count": 3,
   "metadata": {
    "colab": {
     "base_uri": "https://localhost:8080/",
     "height": 68
    },
    "colab_type": "code",
    "id": "HZyO0_NEWtq1",
    "outputId": "7674a91a-9198-44d9-a4dc-406af8567495"
   },
   "outputs": [
    {
     "name": "stdout",
     "output_type": "stream",
     "text": [
      "x_train shape: (60000, 28, 28, 1)\n",
      "60000 train samples\n",
      "10000 test samples\n"
     ]
    }
   ],
   "source": [
    "# Data Preprocessing Steps\n",
    "\n",
    "# Given dimensions of image is 28X28X1 a grayscale image\n",
    "\n",
    "x_train = x_train.reshape(x_train.shape[0], 28, 28, 1)\n",
    "x_test = x_test.reshape(x_test.shape[0], 28, 28, 1)\n",
    "input_shape = (28, 28, 1)\n",
    "\n",
    "x_train = x_train.astype('float32')\n",
    "x_test = x_test.astype('float32')\n",
    "x_train /= 255\n",
    "x_test /= 255\n",
    "print('x_train shape:', x_train.shape)\n",
    "print(x_train.shape[0], 'train samples')\n",
    "print(x_test.shape[0], 'test samples')\n",
    "\n",
    "# convert class vectors to binary class matrices\n",
    "y_train = to_categorical(y_train, 10)\n",
    "y_test = to_categorical(y_test, 10)"
   ]
  },
  {
   "cell_type": "markdown",
   "metadata": {
    "colab_type": "text",
    "id": "K0dSXyC8Ydtl"
   },
   "source": [
    "#MODEL-1 CNN with 3 Layers\n",
    "\n",
    "---\n",
    "\n"
   ]
  },
  {
   "cell_type": "code",
   "execution_count": 4,
   "metadata": {
    "colab": {
     "base_uri": "https://localhost:8080/",
     "height": 527
    },
    "colab_type": "code",
    "id": "MV8nJjdnX7Mz",
    "outputId": "d8764041-87fb-4416-9e24-afc9c64a82ed"
   },
   "outputs": [
    {
     "name": "stdout",
     "output_type": "stream",
     "text": [
      "Train on 60000 samples, validate on 10000 samples\n",
      "Epoch 1/50\n",
      "60000/60000 [==============================] - 14s 235us/step - loss: 0.0347 - acc: 0.9881 - val_loss: 0.0072 - val_acc: 0.9975\n",
      "Epoch 2/50\n",
      "60000/60000 [==============================] - 11s 185us/step - loss: 0.0118 - acc: 0.9962 - val_loss: 0.0051 - val_acc: 0.9982\n",
      "Epoch 3/50\n",
      "60000/60000 [==============================] - 11s 185us/step - loss: 0.0081 - acc: 0.9973 - val_loss: 0.0047 - val_acc: 0.9983\n",
      "Epoch 4/50\n",
      "60000/60000 [==============================] - 11s 185us/step - loss: 0.0066 - acc: 0.9978 - val_loss: 0.0045 - val_acc: 0.9984\n",
      "Epoch 5/50\n",
      "60000/60000 [==============================] - 11s 184us/step - loss: 0.0056 - acc: 0.9982 - val_loss: 0.0039 - val_acc: 0.9987\n",
      "Epoch 6/50\n",
      "60000/60000 [==============================] - 11s 185us/step - loss: 0.0046 - acc: 0.9984 - val_loss: 0.0053 - val_acc: 0.9984\n",
      "Epoch 7/50\n",
      "60000/60000 [==============================] - 11s 185us/step - loss: 0.0041 - acc: 0.9986 - val_loss: 0.0037 - val_acc: 0.9987\n",
      "Epoch 8/50\n",
      "60000/60000 [==============================] - 11s 186us/step - loss: 0.0034 - acc: 0.9989 - val_loss: 0.0041 - val_acc: 0.9987\n",
      "Epoch 9/50\n",
      "60000/60000 [==============================] - 11s 187us/step - loss: 0.0039 - acc: 0.9987 - val_loss: 0.0032 - val_acc: 0.9989\n",
      "Epoch 10/50\n",
      "60000/60000 [==============================] - 11s 186us/step - loss: 0.0029 - acc: 0.9990 - val_loss: 0.0039 - val_acc: 0.9986\n",
      "Epoch 11/50\n",
      "60000/60000 [==============================] - 11s 185us/step - loss: 0.0028 - acc: 0.9991 - val_loss: 0.0039 - val_acc: 0.9987\n",
      "Epoch 12/50\n",
      "60000/60000 [==============================] - 11s 185us/step - loss: 0.0027 - acc: 0.9991 - val_loss: 0.0035 - val_acc: 0.9989\n",
      "Epoch 13/50\n",
      "60000/60000 [==============================] - 11s 185us/step - loss: 0.0023 - acc: 0.9992 - val_loss: 0.0039 - val_acc: 0.9988\n",
      "Epoch 14/50\n",
      "60000/60000 [==============================] - 11s 186us/step - loss: 0.0022 - acc: 0.9992 - val_loss: 0.0036 - val_acc: 0.9990\n",
      "Epoch 00014: early stopping\n"
     ]
    }
   ],
   "source": [
    "from keras.callbacks import EarlyStopping\n",
    "\n",
    "early_stoppping = EarlyStopping(monitor='val_loss',patience = 5,verbose=1)\n",
    "\n",
    "model_1 = Sequential()\n",
    "\n",
    "model_1.add(Conv2D(32, kernel_size=(3, 3),activation='relu',input_shape=(28,28,1)))\n",
    "\n",
    "model_1.add(Conv2D(64, (3, 3), activation='relu'))\n",
    "\n",
    "model_1.add(MaxPooling2D(pool_size=(2, 2)))\n",
    "\n",
    "model_1.add(Dropout(0.25))\n",
    "\n",
    "model_1.add(Conv2D(128, (3, 3), activation='relu'))\n",
    "\n",
    "model_1.add(MaxPooling2D(pool_size=(2, 2)))\n",
    "\n",
    "model_1.add(Flatten())\n",
    "\n",
    "model_1.add(Dense(256, activation='relu',kernel_initializer=he_normal(seed=None)))\n",
    "\n",
    "model_1.add(Dropout(0.5))\n",
    "\n",
    "model_1.add(Dense(10, activation='softmax'))\n",
    "\n",
    "model_1.compile(loss='binary_crossentropy', optimizer=\"adam\", metrics=['accuracy'])\n",
    "\n",
    "my_model_1 = model_1.fit(x_train, y_train,batch_size=128,epochs=50,verbose=1,validation_data=(x_test, y_test),callbacks=[early_stoppping])"
   ]
  },
  {
   "cell_type": "code",
   "execution_count": 5,
   "metadata": {
    "colab": {
     "base_uri": "https://localhost:8080/",
     "height": 299
    },
    "colab_type": "code",
    "id": "ZklJMnC0wVQB",
    "outputId": "ee715ef8-f33e-42c5-eeb2-02a2f7b14dcf"
   },
   "outputs": [
    {
     "name": "stdout",
     "output_type": "stream",
     "text": [
      "Test score: 0.003630750371064505\n",
      "Test accuracy: 0.9989699977874756\n"
     ]
    },
    {
     "data": {
      "image/png": "[encoded data removed]",
      "text/plain": [
       "<Figure size 432x288 with 1 Axes>"
      ]
     },
     "metadata": {
      "tags": []
     },
     "output_type": "display_data"
    }
   ],
   "source": [
    "score_1 = model_1.evaluate(x_test, y_test, verbose=0) \n",
    "print('Test score:', score_1[0]) \n",
    "print('Test accuracy:', score_1[1])\n",
    "\n",
    "plt.plot(my_model_1.history['acc'], 'r')\n",
    "plt.plot(my_model_1.history['val_acc'], 'b')\n",
    "plt.legend({'training accuracy': 'r', 'validation accuracy':'b'})\n",
    "plt.show()\n",
    "\n"
   ]
  },
  {
   "cell_type": "code",
   "execution_count": 6,
   "metadata": {
    "colab": {
     "base_uri": "https://localhost:8080/",
     "height": 265
    },
    "colab_type": "code",
    "id": "qhbCk7pIx-4H",
    "outputId": "e1cfd76d-8a8b-4fd5-f372-a6240d77a35b"
   },
   "outputs": [
    {
     "data": {
      "image/png": "[encoded data removed]",
      "text/plain": [
       "<Figure size 432x288 with 1 Axes>"
      ]
     },
     "metadata": {
      "tags": []
     },
     "output_type": "display_data"
    }
   ],
   "source": [
    "plt.plot(my_model_1.history['loss'], 'r')\n",
    "plt.plot(my_model_1.history['val_loss'], 'b')\n",
    "plt.legend({'training loss': 'r', 'validation loss':'b'})\n",
    "plt.show()"
   ]
  },
  {
   "cell_type": "code",
   "execution_count": 0,
   "metadata": {
    "colab": {},
    "colab_type": "code",
    "id": "xMsArRUx6cyv"
   },
   "outputs": [],
   "source": []
  },
  {
   "cell_type": "markdown",
   "metadata": {
    "colab_type": "text",
    "id": "o_miUJJa7VHK"
   },
   "source": [
    "# MODEL-2 CNN with 5 Layers"
   ]
  },
  {
   "cell_type": "code",
   "execution_count": 7,
   "metadata": {
    "colab": {
     "base_uri": "https://localhost:8080/",
     "height": 442
    },
    "colab_type": "code",
    "id": "TiCA6Q8r7Xvf",
    "outputId": "89b36f9c-851b-4c6f-99d9-90d52bb17952"
   },
   "outputs": [
    {
     "name": "stdout",
     "output_type": "stream",
     "text": [
      "Train on 60000 samples, validate on 10000 samples\n",
      "Epoch 1/12\n",
      "60000/60000 [==============================] - 9s 158us/step - loss: 0.4075 - acc: 0.8695 - val_loss: 0.0538 - val_acc: 0.9829\n",
      "Epoch 2/12\n",
      "60000/60000 [==============================] - 8s 140us/step - loss: 0.0980 - acc: 0.9725 - val_loss: 0.0440 - val_acc: 0.9867\n",
      "Epoch 3/12\n",
      "60000/60000 [==============================] - 8s 141us/step - loss: 0.0728 - acc: 0.9794 - val_loss: 0.0255 - val_acc: 0.9923\n",
      "Epoch 4/12\n",
      "60000/60000 [==============================] - 8s 141us/step - loss: 0.0602 - acc: 0.9825 - val_loss: 0.0237 - val_acc: 0.9927\n",
      "Epoch 5/12\n",
      "60000/60000 [==============================] - 8s 141us/step - loss: 0.0548 - acc: 0.9843 - val_loss: 0.0217 - val_acc: 0.9934\n",
      "Epoch 6/12\n",
      "60000/60000 [==============================] - 8s 142us/step - loss: 0.0460 - acc: 0.9871 - val_loss: 0.0291 - val_acc: 0.9916\n",
      "Epoch 7/12\n",
      "60000/60000 [==============================] - 9s 143us/step - loss: 0.0431 - acc: 0.9878 - val_loss: 0.0271 - val_acc: 0.9909\n",
      "Epoch 8/12\n",
      "60000/60000 [==============================] - 8s 141us/step - loss: 0.0403 - acc: 0.9885 - val_loss: 0.0270 - val_acc: 0.9929\n",
      "Epoch 9/12\n",
      "60000/60000 [==============================] - 8s 141us/step - loss: 0.0389 - acc: 0.9892 - val_loss: 0.0219 - val_acc: 0.9944\n",
      "Epoch 10/12\n",
      "60000/60000 [==============================] - 9s 142us/step - loss: 0.0345 - acc: 0.9905 - val_loss: 0.0252 - val_acc: 0.9923\n",
      "Epoch 11/12\n",
      "60000/60000 [==============================] - 9s 142us/step - loss: 0.0316 - acc: 0.9913 - val_loss: 0.0243 - val_acc: 0.9930\n",
      "Epoch 12/12\n",
      "60000/60000 [==============================] - 9s 142us/step - loss: 0.0303 - acc: 0.9912 - val_loss: 0.0174 - val_acc: 0.9942\n"
     ]
    }
   ],
   "source": [
    "model_2 = Sequential()\n",
    "\n",
    "\n",
    "model_2.add(Conv2D(8, kernel_size=(5, 5),padding='same',activation='relu',input_shape=(28,28,1)))\n",
    "\n",
    "\n",
    "model_2.add(Conv2D(16, (5, 5), activation='relu'))\n",
    "\n",
    "\n",
    "model_2.add(MaxPooling2D(pool_size=(2, 2),padding='same'))\n",
    "\n",
    "\n",
    "model_2.add(Dropout(0.25))\n",
    "\n",
    "\n",
    "model_2.add(Conv2D(32, (5, 5),padding='same', activation='relu'))\n",
    "\n",
    "\n",
    "model_2.add(MaxPooling2D(pool_size=(2, 2),padding='same'))\n",
    "\n",
    "\n",
    "model_2.add(Dropout(0.25))\n",
    "\n",
    "\n",
    "model_2.add(Conv2D(64, (5, 5),padding='same',activation='relu'))\n",
    "\n",
    "\n",
    "model_2.add(Conv2D(64, (5, 5), activation='relu'))\n",
    "\n",
    "\n",
    "model_2.add(MaxPooling2D(pool_size=(2, 2),padding='same'))\n",
    "\n",
    "\n",
    "model_2.add(Dropout(0.25))\n",
    "\n",
    "\n",
    "model_2.add(Flatten())\n",
    "\n",
    "\n",
    "model_2.add(Dense(256, activation='relu',kernel_initializer=he_normal(seed=None)))\n",
    "\n",
    "\n",
    "model_2.add(BatchNormalization())\n",
    "\n",
    "\n",
    "model_2.add(Dropout(0.5))\n",
    "\n",
    "\n",
    "model_2.add(Dense(10, activation='softmax'))\n",
    "\n",
    "\n",
    "model_2.compile(optimizer='adam', loss='categorical_crossentropy', metrics=['accuracy'])\n",
    "\n",
    "\n",
    "my_model_2 = model_2.fit(x_train, y_train,batch_size=128,epochs=12,verbose=1,validation_data=(x_test, y_test))"
   ]
  },
  {
   "cell_type": "code",
   "execution_count": 8,
   "metadata": {
    "colab": {
     "base_uri": "https://localhost:8080/",
     "height": 302
    },
    "colab_type": "code",
    "id": "yjxTCF_28YZk",
    "outputId": "c9afa289-f1d4-4a77-9b61-3d3e6e1d9402"
   },
   "outputs": [
    {
     "name": "stdout",
     "output_type": "stream",
     "text": [
      "Test score: 0.017415812282267688\n",
      "Test accuracy: 0.9942\n"
     ]
    },
    {
     "data": {
      "image/png": "[encoded data removed]",
      "text/plain": [
       "<Figure size 432x288 with 1 Axes>"
      ]
     },
     "metadata": {
      "tags": []
     },
     "output_type": "display_data"
    }
   ],
   "source": [
    "score_2 = model_2.evaluate(x_test, y_test, verbose=0) \n",
    "print('Test score:', score_2[0]) \n",
    "print('Test accuracy:', score_2[1])\n",
    "\n",
    "plt.plot(my_model_2.history['acc'], 'r')\n",
    "plt.plot(my_model_2.history['val_acc'], 'b')\n",
    "plt.legend({'training accuracy': 'r', 'validation accuracy':'b'})\n",
    "plt.show()\n"
   ]
  },
  {
   "cell_type": "code",
   "execution_count": 9,
   "metadata": {
    "colab": {
     "base_uri": "https://localhost:8080/",
     "height": 265
    },
    "colab_type": "code",
    "id": "FzJA3qOd8j41",
    "outputId": "ba481082-3d34-4dfb-9dbd-437f8e60f3c5"
   },
   "outputs": [
    {
     "data": {
      "image/png": "[encoded data removed]",
      "text/plain": [
       "<Figure size 432x288 with 1 Axes>"
      ]
     },
     "metadata": {
      "tags": []
     },
     "output_type": "display_data"
    }
   ],
   "source": [
    "plt.plot(my_model_2.history['loss'], 'r')\n",
    "plt.plot(my_model_2.history['val_loss'], 'b')\n",
    "plt.legend({'training loss': 'r', 'validation loss':'b'})\n",
    "plt.show()"
   ]
  },
  {
   "cell_type": "code",
   "execution_count": 0,
   "metadata": {
    "colab": {},
    "colab_type": "code",
    "id": "vWIBcdwZ9Adp"
   },
   "outputs": [],
   "source": []
  },
  {
   "cell_type": "markdown",
   "metadata": {
    "colab_type": "text",
    "id": "98FQG6SB9E9v"
   },
   "source": [
    "# MODEL-3 CNN with 7 Layers"
   ]
  },
  {
   "cell_type": "code",
   "execution_count": 11,
   "metadata": {
    "colab": {
     "base_uri": "https://localhost:8080/",
     "height": 374
    },
    "colab_type": "code",
    "id": "rR28Yuyx9Huv",
    "outputId": "2ec9266b-21c1-4c75-ccd2-5d307d91b2c8"
   },
   "outputs": [
    {
     "name": "stdout",
     "output_type": "stream",
     "text": [
      "Train on 60000 samples, validate on 10000 samples\n",
      "Epoch 1/10\n",
      "60000/60000 [==============================] - 19s 312us/step - loss: 0.4120 - acc: 0.8620 - val_loss: 0.0495 - val_acc: 0.9837\n",
      "Epoch 2/10\n",
      "60000/60000 [==============================] - 17s 286us/step - loss: 0.0929 - acc: 0.9726 - val_loss: 0.0439 - val_acc: 0.9855\n",
      "Epoch 3/10\n",
      "60000/60000 [==============================] - 17s 285us/step - loss: 0.0666 - acc: 0.9801 - val_loss: 0.0303 - val_acc: 0.9910\n",
      "Epoch 4/10\n",
      "60000/60000 [==============================] - 17s 283us/step - loss: 0.0561 - acc: 0.9836 - val_loss: 0.0287 - val_acc: 0.9918\n",
      "Epoch 5/10\n",
      "60000/60000 [==============================] - 17s 283us/step - loss: 0.0502 - acc: 0.9855 - val_loss: 0.0212 - val_acc: 0.9930\n",
      "Epoch 6/10\n",
      "60000/60000 [==============================] - 17s 284us/step - loss: 0.0432 - acc: 0.9871 - val_loss: 0.0237 - val_acc: 0.9918\n",
      "Epoch 7/10\n",
      "60000/60000 [==============================] - 17s 284us/step - loss: 0.0382 - acc: 0.9886 - val_loss: 0.0252 - val_acc: 0.9926\n",
      "Epoch 8/10\n",
      "60000/60000 [==============================] - 17s 284us/step - loss: 0.0351 - acc: 0.9893 - val_loss: 0.0234 - val_acc: 0.9923\n",
      "Epoch 9/10\n",
      "60000/60000 [==============================] - 17s 283us/step - loss: 0.0332 - acc: 0.9903 - val_loss: 0.0282 - val_acc: 0.9918\n",
      "Epoch 10/10\n",
      "60000/60000 [==============================] - 17s 283us/step - loss: 0.0305 - acc: 0.9907 - val_loss: 0.0205 - val_acc: 0.9943\n"
     ]
    }
   ],
   "source": [
    "model_3 = Sequential()\n",
    "\n",
    "\n",
    "model_3.add(Conv2D(32, kernel_size=(2, 2),padding='same',activation='relu',input_shape=(28,28,1)))\n",
    "\n",
    "\n",
    "model_3.add(Conv2D(32, (2, 2), activation='relu'))\n",
    "\n",
    "\n",
    "model_3.add(MaxPooling2D(pool_size=(3, 3), strides=(1,1)))\n",
    "\n",
    "\n",
    "model_3.add(Dropout(0.3))\n",
    "\n",
    "\n",
    "model_3.add(Conv2D(64, (2, 2), activation='relu'))\n",
    "\n",
    "\n",
    "model_3.add(MaxPooling2D(pool_size=(2, 2),padding='same'))\n",
    "\n",
    "\n",
    "model_3.add(Conv2D(64, (2, 2),padding='same',activation='relu'))\n",
    "\n",
    "\n",
    "model_3.add(Conv2D(128, (2, 2), activation='relu'))\n",
    "\n",
    "\n",
    "model_3.add(MaxPooling2D(pool_size=(3, 3),padding='same'))\n",
    "\n",
    "\n",
    "model_3.add(Dropout(0.25))\n",
    "\n",
    "\n",
    "model_3.add(Conv2D(128, (2, 2),padding='same',activation='relu'))\n",
    "\n",
    "\n",
    "model_3.add(Conv2D(256, (2, 2), activation='relu'))\n",
    "\n",
    "\n",
    "model_3.add(MaxPooling2D(pool_size=(2, 2), strides=(1,1)))\n",
    "\n",
    "\n",
    "model_3.add(Dropout(0.25))\n",
    "\n",
    "\n",
    "model_3.add(Flatten())\n",
    "\n",
    "\n",
    "model_3.add(Dense(256, activation='relu',kernel_initializer=he_normal(seed=None)))\n",
    "\n",
    "\n",
    "model_3.add(BatchNormalization())\n",
    "\n",
    "\n",
    "model_3.add(Dropout(0.5))\n",
    "\n",
    "\n",
    "model_3.add(Dense(128, activation='relu',kernel_initializer=he_normal(seed=None)))\n",
    "\n",
    "\n",
    "model_3.add(Dropout(0.25))\n",
    "\n",
    "\n",
    "model_3.add(Dense(10, activation='softmax'))\n",
    "\n",
    "\n",
    "model_3.compile(optimizer='adam', loss='categorical_crossentropy', metrics=['accuracy'])\n",
    "\n",
    "\n",
    "my_model_3 = model_3.fit(x_train, y_train,batch_size=128,epochs=10,verbose=1,validation_data=(x_test, y_test))"
   ]
  },
  {
   "cell_type": "code",
   "execution_count": 12,
   "metadata": {
    "colab": {
     "base_uri": "https://localhost:8080/",
     "height": 302
    },
    "colab_type": "code",
    "id": "Z3DdzNDf959y",
    "outputId": "09dea816-a7a5-4083-d99c-77931414d808"
   },
   "outputs": [
    {
     "name": "stdout",
     "output_type": "stream",
     "text": [
      "Test score: 0.020454944854525092\n",
      "Test accuracy: 0.9943\n"
     ]
    },
    {
     "data": {
      "image/png": "[encoded data removed]",
      "text/plain": [
       "<Figure size 432x288 with 1 Axes>"
      ]
     },
     "metadata": {
      "tags": []
     },
     "output_type": "display_data"
    }
   ],
   "source": [
    "score_3 = model_3.evaluate(x_test, y_test, verbose=0) \n",
    "print('Test score:', score_3[0]) \n",
    "print('Test accuracy:', score_3[1])\n",
    "\n",
    "plt.plot(my_model_3.history['acc'], 'r')\n",
    "plt.plot(my_model_3.history['val_acc'], 'b')\n",
    "plt.legend({'training accuracy': 'r', 'validation accuracy':'b'})\n",
    "plt.show()"
   ]
  },
  {
   "cell_type": "code",
   "execution_count": 13,
   "metadata": {
    "colab": {
     "base_uri": "https://localhost:8080/",
     "height": 265
    },
    "colab_type": "code",
    "id": "LtJPL05q-CgA",
    "outputId": "2f03bb8a-3a94-4ae7-851b-48229d5ee1fa"
   },
   "outputs": [
    {
     "data": {
      "image/png": "[encoded data removed]",
      "text/plain": [
       "<Figure size 432x288 with 1 Axes>"
      ]
     },
     "metadata": {
      "tags": []
     },
     "output_type": "display_data"
    }
   ],
   "source": [
    "plt.plot(my_model_3.history['loss'], 'r')\n",
    "plt.plot(my_model_3.history['val_loss'], 'b')\n",
    "plt.legend({'training loss': 'r', 'validation loss':'b'})\n",
    "plt.show()"
   ]
  },
  {
   "cell_type": "code",
   "execution_count": 0,
   "metadata": {
    "colab": {},
    "colab_type": "code",
    "id": "JojyQpON-qhq"
   },
   "outputs": [],
   "source": []
  },
  {
   "cell_type": "markdown",
   "metadata": {
    "colab_type": "text",
    "id": "7G6owLFyupGF"
   },
   "source": [
    "# Performance Comparison of the Models Using Pretty Table"
   ]
  },
  {
   "cell_type": "code",
   "execution_count": 14,
   "metadata": {
    "colab": {
     "base_uri": "https://localhost:8080/",
     "height": 136
    },
    "colab_type": "code",
    "id": "prO8c6xnuuOm",
    "outputId": "006195f5-c3ef-4ede-9865-c17e1f3a34a8"
   },
   "outputs": [
    {
     "name": "stdout",
     "output_type": "stream",
     "text": [
      "+-------+-------------------------------------+--------------------+--------------------+\n",
      "| S.NO. |                MODEL                | Training Accuracy  |   Test Accuracy    |\n",
      "+-------+-------------------------------------+--------------------+--------------------+\n",
      "|   1   | Model 1 -- CNN with 3 Hidden Layers | 0.9992333401997884 | 0.9989699977874756 |\n",
      "|   2   | Model 2 -- CNN with 5 Hidden Layers | 0.9912500000317891 |       0.9942       |\n",
      "|   3   | Model 3 -- CNN with 7 Hidden Layers | 0.9907166666984558 |       0.9943       |\n",
      "+-------+-------------------------------------+--------------------+--------------------+\n"
     ]
    }
   ],
   "source": [
    "from prettytable import PrettyTable\n",
    "\n",
    "# Names of models\n",
    "names = ['Model 1 -- CNN with 3 Hidden Layers','Model 2 -- CNN with 5 Hidden Layers','Model 3 -- CNN with 7 Hidden Layers']\n",
    "         \n",
    "\n",
    "# Training accuracies\n",
    "train_acc = [max(my_model_1.history['acc']),max(my_model_2.history['acc']),max(my_model_3.history['acc'])]\n",
    "\n",
    "# Test accuracies\n",
    "test_acc = [score_1[1],score_2[1],score_3[1]]\n",
    "\n",
    "numbering = [1,2,3]\n",
    "\n",
    "# Initializing prettytable\n",
    "ptable = PrettyTable()\n",
    "\n",
    "# Adding columns\n",
    "ptable.add_column(\"S.NO.\",numbering)\n",
    "ptable.add_column(\"MODEL\",names)\n",
    "ptable.add_column(\"Training Accuracy\",train_acc)\n",
    "ptable.add_column(\"Test Accuracy\",test_acc)\n",
    "\n",
    "# Printing the Table\n",
    "print(ptable)"
   ]
  },
  {
   "cell_type": "code",
   "execution_count": 0,
   "metadata": {
    "colab": {},
    "colab_type": "code",
    "id": "cI91kT47v_QB"
   },
   "outputs": [],
   "source": []
  }
 ],
 "metadata": {
  "accelerator": "GPU",
  "colab": {
   "collapsed_sections": [],
   "name": "Various_CNN_Architectures.ipynb",
   "provenance": [],
   "version": "0.3.2"
  },
  "kernelspec": {
   "display_name": "Python 3",
   "language": "python",
   "name": "python3"
  },
  "language_info": {
   "codemirror_mode": {
    "name": "ipython",
    "version": 3
   },
   "file_extension": ".py",
   "mimetype": "text/x-python",
   "name": "python",
   "nbconvert_exporter": "python",
   "pygments_lexer": "ipython3",
   "version": "3.6.7"
  }
 },
 "nbformat": 4,
 "nbformat_minor": 1
}
